{
 "cells": [
  {
   "cell_type": "markdown",
   "metadata": {},
   "source": [
    "#przykłady Jupyter\n",
    "## nagłówkek 2\n",
    "* pierwszy\n",
    "* drugi\n",
    "\n",
    "\n",
    "![alt text](https://github.com/adam-p/markdown-here/raw/master/src/common/images/icon48.png \"Logo Title Text 1\")\n",
    "\n",
    "\n",
    "\n"
   ]
  },
  {
   "cell_type": "code",
   "execution_count": 1,
   "metadata": {},
   "outputs": [],
   "source": [
    "def hello():\n",
    "    return \"hello world !!\""
   ]
  },
  {
   "cell_type": "code",
   "execution_count": 2,
   "metadata": {},
   "outputs": [
    {
     "data": {
      "text/plain": [
       "'hello world !!'"
      ]
     },
     "execution_count": 2,
     "metadata": {},
     "output_type": "execute_result"
    }
   ],
   "source": [
    "hello()"
   ]
  },
  {
   "cell_type": "code",
   "execution_count": 3,
   "metadata": {},
   "outputs": [
    {
     "name": "stdout",
     "output_type": "stream",
     "text": [
      " Wolumin w stacji C nie ma etykiety.\n",
      " Numer seryjny woluminu: 8C5A-2D9C\n",
      "\n",
      " Katalog: C:\\Users\\kurs\\workspace\\python_bootcamp_16032019\n",
      "\n",
      "2019-05-25  09:44    <DIR>          .\n",
      "2019-05-25  09:44    <DIR>          ..\n",
      "2019-03-17  10:31             1˙307 .gitignore\n",
      "2019-05-25  09:14    <DIR>          .ipynb_checkpoints\n",
      "2019-03-31  09:53    <DIR>          .pytest_cache\n",
      "2019-03-17  11:06    <DIR>          01_basics\n",
      "2019-03-17  17:57    <DIR>          02_kolekcje\n",
      "2019-05-11  16:22    <DIR>          07_pliki_wykonywalne\n",
      "2019-05-12  16:47    <DIR>          08_przyklady_rozne\n",
      "2019-05-25  09:48    <DIR>          09_data\n",
      "2019-03-30  17:58    <DIR>          3 dzien\n",
      "2019-04-13  10:45    <DIR>          3 zjazd\n",
      "2019-03-31  16:53    <DIR>          4 dzien\n",
      "2019-05-11  12:59    <DIR>          5 zjazd\n",
      "2019-05-11  14:46    <DIR>          6 modules\n",
      "2019-03-16  12:51               504 first.py\n",
      "2019-03-16  12:59               381 imie.py\n",
      "2019-03-16  13:44               302 miasta zad5.py\n",
      "2019-04-14  16:53    <DIR>          obiektowe\n",
      "2019-05-25  09:42             1˙378 Untitled.ipynb\n",
      "2019-03-16  12:51               359 wz˘r tr˘jkĄta.py\n",
      "2019-03-16  16:29               365 zad 10.py\n",
      "2019-03-16  15:49               182 zad 9.py\n",
      "2019-03-17  15:30             1˙460 zad15.py\n",
      "2019-03-17  12:11               534 zadanie 13.py\n",
      "2019-03-17  15:37                 0 __init__.py\n",
      "              11 plik(˘w)              6˙772 bajt˘w\n",
      "              15 katalog(˘w)  16˙840˙732˙672 bajt˘w wolnych\n"
     ]
    }
   ],
   "source": [
    "!dir\n"
   ]
  },
  {
   "cell_type": "code",
   "execution_count": 4,
   "metadata": {},
   "outputs": [
    {
     "name": "stdout",
     "output_type": "stream",
     "text": [
      "Collecting numpy\n",
      "  Downloading https://files.pythonhosted.org/packages/4e/9d/c129d78e6b942303b762ccfdf1f8339de80c5e6021b14ef0c99ec5bdc6aa/numpy-1.16.3-cp37-cp37m-win_amd64.whl (11.9MB)\n",
      "Installing collected packages: numpy\n",
      "Successfully installed numpy-1.16.3\n"
     ]
    },
    {
     "name": "stderr",
     "output_type": "stream",
     "text": [
      "You are using pip version 18.1, however version 19.1.1 is available.\n",
      "You should consider upgrading via the 'python -m pip install --upgrade pip' command.\n"
     ]
    }
   ],
   "source": [
    "!pip install numpy"
   ]
  },
  {
   "cell_type": "code",
   "execution_count": null,
   "metadata": {},
   "outputs": [],
   "source": []
  }
 ],
 "metadata": {
  "kernelspec": {
   "display_name": "Python 3",
   "language": "python",
   "name": "python3"
  },
  "language_info": {
   "codemirror_mode": {
    "name": "ipython",
    "version": 3
   },
   "file_extension": ".py",
   "mimetype": "text/x-python",
   "name": "python",
   "nbconvert_exporter": "python",
   "pygments_lexer": "ipython3",
   "version": "3.7.2"
  }
 },
 "nbformat": 4,
 "nbformat_minor": 2
}
